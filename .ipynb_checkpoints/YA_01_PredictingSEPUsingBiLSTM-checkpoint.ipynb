{
 "cells": [
  {
   "cell_type": "markdown",
   "metadata": {},
   "source": [
    "# **Predicting Solar Energetic Particles Using SDO/HMI Vector Magnetic Data Products and a Bidirectional LSTM Network**"
   ]
  },
  {
   "cell_type": "markdown",
   "metadata": {
    "toc": true
   },
   "source": [
    "<h1><b>Table of Contents</b><span class=\"tocSkip\"></span> </h1>\n",
    "<div class=\"toc\">\n",
    "<!--     <ul class=\"toc-item\"> -->\n",
    "        <li><span><a href=\"#Template-Notebook-for-EarthCube---Long-Version\"\n",
    "                    data-toc-modified-id=\"Template-Notebook-for-EarthCube---Long-Version-1\"><span\n",
    "                        class=\"toc-item-num\">1&nbsp;&nbsp;</span>YA_Predicting Solar Energetic Particles Using SDO/HMI Vector Magnetic Data Products and a Bidirectional LSTM Network\n",
    "                    Learning</a></span>\n",
    "            <ul class=\"toc-item\" style='margin-top:0px; margin-bottom:0px'>\n",
    "                <li><span><a href=\"#Author(s)\" data-toc-modified-id=\"Author(s)-1.1\"><span\n",
    "                                class=\"toc-item-num\">1.1&nbsp;&nbsp;</span>Author(s)</a></span></li>\n",
    "                <li><span><a href=\"#Purpose\" data-toc-modified-id=\"Purpose-1.2\"><span\n",
    "                                class=\"toc-item-num\">1.2&nbsp;&nbsp;</span>Purpose</a></span></li>\n",
    "                <li><span><a href=\"#Technical-Contributions\" data-toc-modified-id=\"Technical-Contributions-1.3\"><span\n",
    "                                class=\"toc-item-num\">1.3&nbsp;&nbsp;</span>Technical Contributions</a></span></li>\n",
    "                <li><span><a href=\"#Methodology\" data-toc-modified-id=\"Methodology-1.4\"><span\n",
    "                                class=\"toc-item-num\">1.4&nbsp;&nbsp;</span>Methodology</a></span></li>\n",
    "                <li><span><a href=\"#Funding\" data-toc-modified-id=\"Funding-1.6\"><span\n",
    "                                class=\"toc-item-num\">1.5&nbsp;&nbsp;</span>Funding</a></span></li>\n",
    "                <li><span><a href=\"#Keywords\" data-toc-modified-id=\"Keywords-1.7\"><span\n",
    "                                class=\"toc-item-num\">1.6&nbsp;&nbsp;</span>Keywords</a></span></li>\n",
    "                <li><span><a href=\"#Citation\" data-toc-modified-id=\"Citation-1.8\"><span\n",
    "                                class=\"toc-item-num\">1.7&nbsp;&nbsp;</span>Citation</a></span></li>\n",
    "                <li><span style='display:inline'><a href=\"#Acknowledgements\" data-toc-modified-id=\"Acknowledgements-1.11\"><span\n",
    "                        class=\"toc-item-num\">1.8&nbsp;&nbsp;</span>Acknowledgements</a></span></li>                \n",
    "            </ul>\n",
    "        </li>\n",
    "<!--     </ul> -->\n",
    "    <li><span><a href=\"#Setup\" data-toc-modified-id=\"Setup-2\"><span\n",
    "                    class=\"toc-item-num\">2&nbsp;&nbsp;</span>Setup</a></span>\n",
    "    </li>\n",
    "    <li><span><a href=\"#Data-Processing-and-Analysis\" data-toc-modified-id=\"Data-Processing-and-Analysis-3\"><span\n",
    "                    class=\"toc-item-num\">3&nbsp;&nbsp;</span>Data Processing and Analysis</a></span></li>\n",
    "    <li><span><a href=\"#Binder\" data-toc-modified-id=\"Binder-4\"><span\n",
    "                    class=\"toc-item-num\">4&nbsp;&nbsp;</span>Binder</a></span></li>\n",
    "    <li><span><a href=\"#SEP-BiLSTM-Workflow-and-Results\" data-toc-modified-id=\"SEP-BiLSTM-Workflow-5\"><span\n",
    "                    class=\"toc-item-num\">5&nbsp;&nbsp;</span>SEP BiLSTM Workflow and Results</a></span>\n",
    "        <ul class=\"toc-item\" style='margin-top:0px;margin-bottom:0px'>\n",
    "            <li>\n",
    "                <span><a href=\"#Data-Preparation-and-Loading\"\n",
    "                        data-toc-modified-id=\"Data-Preparation-and-Loading-5.1\"><span\n",
    "                            class=\"toc-item-num\">5.1&nbsp;&nbsp;</span>Data Preparation and Loading</a></span>\n",
    "            </li>\n",
    "            <li>\n",
    "                <span><a href=\"#Predicting-with-Pretrained-Models\"\n",
    "                        data-toc-modified-id=\"Predicting-with-Pretrained Models-5.6\"><span\n",
    "                            class=\"toc-item-num\">5.2&nbsp;&nbsp;</span>Predicting with Pretrained Models</a></span>\n",
    "<!--                 <ul class=\"toc-item\">\n",
    "                    <li style='list-style: square'>\n",
    "                        <span><a href=\"#Plotting-the-Pretrained-Models-Results\"\n",
    "                                data-toc-modified-id=\"Plotting-the-Pretrained-Models-Results-5.2.3\">\n",
    "                                <span class=\"toc-item-num\">5.2.1&nbsp;&nbsp;\n",
    "                                </span>Plotting the Pretrained Models Results</a></span>\n",
    "                    </li>\n",
    "                </ul> -->\n",
    "            </li>            \n",
    "            <li>\n",
    "                <span><a href=\"#ENS-Model-Training-and-Testing\"\n",
    "                        data-toc-modified-id=\"ENS-Model-Training-and-Testing-5.2\"><span\n",
    "                            class=\"toc-item-num\">5.3&nbsp;&nbsp;</span>ENS Model Training and Testing</a></span>\n",
    "<!--                 <ul class=\"toc-item\">\n",
    "                    <li style='list-style: square'>\n",
    "                        <span><a href=\"#ENS-Model-Training-with-Default-Data\"\n",
    "                                data-toc-modified-id=\"ENS Model-Training-with-Default-Data-6\">\n",
    "                                <span class=\"toc-item-num\">5.3.1&nbsp;&nbsp;\n",
    "                                </span>ENS Model Training with Default Data</a></span>\n",
    "                    </li>\n",
    "                    <li style='list-style: square'>\n",
    "                        <span><a href=\"#Predicting-with-Your-ENS-Model\"\n",
    "                                data-toc-modified-id=\"Predicting-with-Your-ENS-Model-5.2.2\">\n",
    "                                <span class=\"toc-item-num\">5.3.2&nbsp;&nbsp;\n",
    "                                </span>Predicting with Your ENS Model</a></span>\n",
    "                    </li>\n",
    "                    <li style='list-style: square'>\n",
    "                        <span><a href=\"#Plotting-the-ENS-Results\" data-toc-modified-id=\"Plotting-the-ENS-Results-5.2.3\">\n",
    "                                <span class=\"toc-item-num\">5.3.3&nbsp;&nbsp;\n",
    "                                </span>Plotting the ENS Results</a></span>\n",
    "                    </li>\n",
    "                </ul> -->\n",
    "            </li>\n",
    "            <li>\n",
    "                <span><a href=\"#RF-Model-Training-and-Testing\"\n",
    "                        data-toc-modified-id=\"RF-Model-Training-and-Testing-5.2\"><span\n",
    "                            class=\"toc-item-num\">5.4&nbsp;&nbsp;</span>RF Model Training and Testing</a></span>\n",
    "<!--                 <ul class=\"toc-item\">\n",
    "                    <li style='list-style: square'>\n",
    "                        <span><a href=\"#RF-Model-Training-with-Default-Data\"\n",
    "                                data-toc-modified-id=\"RF Model-Training-with-Default-Data-6\">\n",
    "                                <span class=\"toc-item-num\">5.4.1&nbsp;&nbsp;\n",
    "                                </span>RF Model Training with Default Data</a></span>\n",
    "                    </li>\n",
    "                    <li style='list-style: square'>\n",
    "                        <span><a href=\"#Predicting-with-Your-RF-Model\"\n",
    "                                data-toc-modified-id=\"Predicting-with-Your-RF-Model-5.2.2\">\n",
    "                                <span class=\"toc-item-num\">5.4.2&nbsp;&nbsp;\n",
    "                                </span>Predicting with Your RF Model</a></span>\n",
    "                    </li>\n",
    "                    <li style='list-style: square'>\n",
    "                        <span><a href=\"#Plotting-the-RF-Results\" data-toc-modified-id=\"Plotting-the-RF-Results-5.2.3\">\n",
    "                                <span class=\"toc-item-num\">5.4.3&nbsp;&nbsp;\n",
    "                                </span>Plotting the RF Results</a></span>\n",
    "                    </li>\n",
    "                </ul> -->\n",
    "            </li>\n",
    "            <li>\n",
    "                <span><a href=\"#MLP-Model-Training-and-Testing\"\n",
    "                        data-toc-modified-id=\"MLP-Model-Training-and-Testing-5.2\"><span\n",
    "                            class=\"toc-item-num\">5.5&nbsp;&nbsp;</span>MLP Model Training and Testing</a></span>\n",
    "<!--                 <ul class=\"toc-item\">\n",
    "                    <li style='list-style: square'>\n",
    "                        <span><a href=\"#MLP-Model-Training-with-Default-Data\"\n",
    "                                data-toc-modified-id=\"MLP Model-Training-with-Default-Data-6\">\n",
    "                                <span class=\"toc-item-num\">5.5.1&nbsp;&nbsp;\n",
    "                                </span>MLP Model Training with Default Data</a></span>\n",
    "                    </li>\n",
    "                    <li style='list-style: square'>\n",
    "                        <span><a href=\"#Predicting-with-Your-MLP-Model\"\n",
    "                                data-toc-modified-id=\"Predicting-with-Your-RF-Model-5.2.2\">\n",
    "                                <span class=\"toc-item-num\">5.5.2&nbsp;&nbsp;\n",
    "                                </span>Predicting with Your MLP Model</a></span>\n",
    "                    </li>\n",
    "                    <li style='list-style: square'>\n",
    "                        <span><a href=\"#Plotting-the-MLP-Results\" data-toc-modified-id=\"Plotting-the-MLP-Results-5.2.3\">\n",
    "                                <span class=\"toc-item-num\">5.5.3&nbsp;&nbsp;\n",
    "                                </span>Plotting the MLP Results</a></span>\n",
    "                    </li>\n",
    "                </ul> -->\n",
    "            </li>\n",
    "            <li>\n",
    "                <span><a href=\"#ELM-Model-Training-and-Testing\"\n",
    "                        data-toc-modified-id=\"ELM-Model-Training-and-Testing-5.2\"><span\n",
    "                            class=\"toc-item-num\">5.6&nbsp;&nbsp;</span>ELM Model Training and Testing</a></span>\n",
    "<!--                 <ul class=\"toc-item\">\n",
    "                    <li style='list-style: square'>\n",
    "                        <span><a href=\"#ELM-Model-Training-with-Default-Data\"\n",
    "                                data-toc-modified-id=\"ELM Model-Training-with-Default-Data-6\">\n",
    "                                <span class=\"toc-item-num\">5.6.1&nbsp;&nbsp;\n",
    "                                </span>ELM Model Training with Default Data</a></span>\n",
    "                    </li>\n",
    "                    <li style='list-style: square'>\n",
    "                        <span><a href=\"#Predicting-with-Your-ELM-Model\"\n",
    "                                data-toc-modified-id=\"Predicting-with-Your-ELM-Model-5.2.2\">\n",
    "                                <span class=\"toc-item-num\">5.6.2&nbsp;&nbsp;\n",
    "                                </span>Predicting with Your ELM Model</a></span>\n",
    "                    </li>\n",
    "                    <li style='list-style: square'>\n",
    "                        <span><a href=\"#Plotting-the-ELM-Results\" data-toc-modified-id=\"Plotting-the-ELM-Results-5.2.3\">\n",
    "                                <span class=\"toc-item-num\">5.6.3&nbsp;&nbsp;\n",
    "                                </span>Plotting the ELM Results</a></span>\n",
    "                    </li>\n",
    "                </ul> -->\n",
    "            </li>            \n",
    "            <li>\n",
    "                <span><a href=\"#Timing\"\n",
    "                        data-toc-modified-id=\"Timing-5.7\"><span\n",
    "                            class=\"toc-item-num\">5.7&nbsp;&nbsp;</span>Timing</a></span>\n",
    "            </li>            \n",
    "        </ul>\n",
    "    </li>\n",
    "<!--     </ul> -->\n",
    "</div>            \n",
    "        </ul>\n",
    "    </li>\n",
    "    <li><span><a href=\"#Conclusions\" data-toc-modified-id=\"Conclusions-6\"><span\n",
    "                    class=\"toc-item-num\">6&nbsp;&nbsp;</span>Conclusions</a></span>\n",
    "    </li>\n",
    "    <li><span><a href=\"#References\" data-toc-modified-id=\"References-7\"><span\n",
    "                    class=\"toc-item-num\">7&nbsp;&nbsp;</span>References</a></span>\n",
    "    </li>    \n",
    "    </ul>\n",
    "</div>"
   ]
  },
  {
   "cell_type": "markdown",
   "metadata": {},
   "source": [
    "### **Author(s)**\n",
    "- Author1 = {\"name\": \"Yasser Abduallah\", \"affiliation\": \"Department of Computer Science, New Jersey Institute of Technology\", \"email\": \"ya54@njit.edu\", \"orcid\": \"https://orcid.org/0000-0003-0792-2270\"}\n",
    "- Author2 = {\"name\": \"Vania K. Jordanova\", \"affiliation\": \"Space Science and Applications, Los Alamos National Laboratory, Los Alamos, NM\", \"email\": \"vania@lanl.gov\", \"orcid\": \"https://orcid.org/0000-0003-0475-8743\"}\n",
    "- Author3 = {\"name\": \"Hao Liu\", \"affiliation\": \"Department of Computer Science, New Jersey Institute of Technology\", \"email\": \"hl422@njit.edu\", \"orcid\": \"https://orcid.org/0000-0002-1975-1272\"}\n",
    "- Author4 = {\"name\": \" Qin Li\", \"affiliation\": \"Big Bear Solar Observatory, New Jersey Institute of Technology, 40386 North Shore Lane, Big Bear City, CA 92314, USA\", \"email\": \"ql47@njit.edu\", \"orcid\": \"https://orcid.org/0000-0002-6178-7471\"}\n",
    "- Author5 = {\"name\": \"Jason T. L. Wang\", \"affiliation\": \"Department of Computer Science, New Jersey Institute of Technology\", \"email\": \"wangj@njit.edu\", \"orcid\": \"https://orcid.org/0000-0002-2486-1097\"}\n",
    "- Author6 = {\"name\": \"Haimin Wang\", \"affiliation\": \"Institute for Space Weather Sciences, New Jersey Institute of Technology\", \"email\": \"haimin.wang@njit.edu\", \"orcid\": \"https://orcid.org/0000-0002-5233-565X\"}"
   ]
  },
  {
   "cell_type": "markdown",
   "metadata": {},
   "source": [
    "### **Purpose**\n",
    "Solar energetic particles (SEPs) are an essential source of space radiation, and are hazardous for humans in space,\n",
    "spacecraft, and technology in general. We provide a deep-learning method, specifically a bidirectional long short-term memory (biLSTM) network, to predict if an active region (AR) would produce an SEP event given that (i) the AR will produce an M- or X-class flare and a coronal mass ejection (CME) associated with the flare, or (ii) the AR will produce an M- or X-class flare regardless of whether or not the flare is associated with a CME. \n",
    "\n",
    "We aim to solve the following two binary prediction problems. [FC_S problem] Given a data sample x<sub>t</sub> at time point t in an AR where the AR will produce an M- or X-class flare within the next *T* hours of t and the flare initiates a CME, we predict whether x<sub>t</sub> is positive or negative. Predicting x<sub>t</sub> to be positive means that the AR will produce an SEP event associated with the flare/CME. Predicting x<sub>t</sub> to be negative means that the AR will not produce an SEP event associated with the flare/CME. [F_S problem] Given a data sample x<sub>t</sub> at time point t in an AR where the AR will produce an M- or X-class flare within the next *T* hours of t regardless of whether or not the flare initiates a CME, we predict whether x<sub>t</sub> is positive or negative. Predicting x<sub>t</sub> to be positive means that the AR will produce an SEP event associated with the flare. Predicting x<sub>t</sub> to be negative means that the AR will not produce an SEP event associated with the flare. For both of the two binary prediction problems, we consider *T* ranging from 12 to 72 in 12 hr intervals.\n",
    "\n",
    "\n",
    "In this notebook we provide an overview of the BiLSTM system to demonstrate how to predict SEP using deep learning (DL) and SDO/HMI vector magnetic data products (SHARP parameters).\n",
    "\n",
    "### **Technical Contributions**\n",
    "\n",
    "- We provide the community with a new tool to predict the occurrance of solar energetic particles (SEP) for the next 12, 24, 36, 48, 60, or 72 hours ahead.\n",
    "\n",
    "\n",
    "### **Methodology**\n",
    "\n",
    "Here we present a prediction system, named BiLSTM, for predicting  solar energetic particles using deep learning (DL) based on HMI’s vector magnetic data products. The data samples used in this study are collected from the Geostationary Operational Environmental Satelliteʼs X-ray flare catalogs provided by the National Centers for Environmental Information. We select M- and X-class flares with identified ARs in the catalogs for the period between 2010 and 2021, and find the associations of flares,\n",
    "CMEs, and SEPs in the Space Weather Database of Notifications, Knowledge, Information during the same period. Each data sample contains physical parameters collected from the Helioseismic and Magnetic Imager on board the\n",
    "Solar Dynamics Observatory. Specifically, we collected SHARP data samples from the data series, hmi.sharp_cea_720s, using the Python package SunPy at a cadence of 12 minutes. In collecting the data samples, we focused on 18 physical parameters previously used for SEP predictions. Appropriately labeling the data samples is crucial for machine learning. We surveyed M- and X-class flares that occurred between 2010 and 2021 with identified ARs in the GOES X-ray flare catalogs provided by the National Centers for Environmental Information (NCEI). \n",
    "\n",
    "\n",
    "To solve the binary prediction problems. Consider  the FC_S problem where *T* = 24 hr. Here we want to predict whether a given test data sample x<sub>t</sub> at time point t is positive (blue) or negative (green) given that there will be an M- or X-class flare within the next 24 hr of t, and the flare initiates a CME. If there is an SEP event associated with the flare/CME, and we predict x<sub>t</sub> to be positive (blue), then this is a correct prediction as illustrated in Figure 1(c). If there is an SEP event associated with the flare/CME, but we predict x<sub>t</sub> to be negative (green), then this is a wrong prediction as illustrated in Figure 1(e). On the other hand, if there is no SEP event associated with the flare/CME, and we predict x<sub>t</sub> to be negative (green), then this is a correct prediction as illustrated in Figure 1(d). If there is no SEP event associated with the flare/CME, but we predict x<sub>t</sub> to be positive (blue), then this is a wrong prediction as illustrated in Figure 1(f). The F_S problem is solved similarly.\n",
    "\n",
    "  \n",
    "  <img src=\"figures/figure1.jpg\" width=\"750\"/>\n",
    "\n",
    "<br>\n",
    "\n",
    "\n",
    "The architecture of the BiLSTM network is shown in Figure 2 and described as follow. Yellow boxes represent biLSTM cells. These cells are connected to an attention layer (A) that contains m neurons, which are connected to a fully connected layer (FCL). (In the study presented here, m is set to 10.) During testing/prediction, the input to the network is a test data sequence with m consecutive data samples x<sub>t−m+1</sub>, x<sub>t−m+2</sub> ... x<sub>t−1</sub>, x<sub>t</sub> where x<sub>t</sub> is the test data sample at time point t. The trained BiLSTM network predicts the label (color) of the test data sequence, more precisely the label (color) of x<sub>t</sub> . The output layer of the BiLSTM network calculates a probability ($\\hat{y}$) between 0 and 1. If $\\hat{y}$ is greater than or equal to a threshold, which is set to 0.5, the BiLSTM network outputs 1 and predicts x<sub>t</sub> to be positive, i.e., predicts the label (color) of x<sub>t</sub> to be blue; see Figure 1. Otherwise, the BiLSTM network outputs 0 and predicts x<sub>t</sub> to be negative, i.e., predicts the label (color) of x<sub>t</sub> to be green; see Figure 1.\n",
    "<img src=\"figures/figure2.jpg\" width=\"750\" />\n",
    "\n",
    "<br>\n",
    "\n",
    "This notebook leverages python deep learning to describe the steps on how to use the BiLSTM tool to predict the binary SEP classification problems we are sovling.\n",
    "\n",
    "### **Funding**\n",
    "This work was supported by U.S. NSF grants AGS-1927578 and AGS-1954737 and supported by NASA under grants 80NSSC18K1705, 80NSSC19K0068, and 80NSSC20K1282.\n",
    "\n",
    "### **Keywords**\n",
    "keywords=[\"Flare\", \"Prediction\", \"Machine\", \"Learning\", \"SHARP\",\"Solar\",'Particles\",\"Energetic\",\"Coronal\",\"Mass\",\"Ejection\"]\n",
    "\n",
    "### **Citation**\n",
    "To cite this notebook: Yasser Abduallah, Vania K. Jordanova, Hao Liu, Qin Li, Jason T. L. Wang, and Haimin Wang. Predicting Solar Energetic Particles Using SDO/HMI Vector Magnetic Data Products and a Bidirectional LSTM Network, available at: <a href='https://github.com/ccsc-tools/SEP-prediction/blob/main/YA_01_PredictingSEPUsingBiLSTM.ipynb' target='new'>https://github.com/ccsc-tools/SEP-prediction/blob/main/YA_01_PredictingSEPUsingBiLSTM.ipynb</a>.\n",
    "\n",
    "\n",
    "\n",
    "### **Acknowledgements** \n",
    "\n",
    "We thank the team of SDO/HMI for producing vector magnetic data products. The flare catalogs were prepared by and made available through NOAA NCEI.\n",
    "And we also thank Manolis K. Georgoulis for helpful conversations in the SHINE 2019 Conference."
   ]
  },
  {
   "cell_type": "markdown",
   "metadata": {},
   "source": [
    "# **Setup**\n",
    "\n",
    "**Installation on Local Machine**<br>\n",
    "Running this notebook in a local machine requires Python version 3.9.x with the following packages and their version:\n",
    "\n",
    "|Library | Version   | Description  |\n",
    "|---|---|---|\n",
    "|keras| 2.6.0 | Deep learning API|\n",
    "|numpy| 1.19.5| Array manipulation|\n",
    "|scikit-learn| 1.0.1| Machine learning|\n",
    "| pandas|1.4.1| Data loading and manipulation|\n",
    "| tensorboard| 2.8.0| Provides the visualization and tooling needed for machine learning|\n",
    "| tensorflow-gpu| 2.6.0| Deep learning tool for high performance computation |\n",
    "| tensorflow-estimator | 2.8.0| A high-level TensorFlow API. Estimators encapsulate the training, prediction, and evalution functions |\n",
    "\n",
    "<br>\n",
    "<!--table>\n",
    "    <tr>\n",
    "        <td>Library</td><td>Version</td><td>Description</td>\n",
    "    </tr>\n",
    "    <tr>\n",
    "        <td>keras </td><td> 2.6.0 </td><td align=\"left\"> Deep learning API</td>\n",
    "    </tr>\n",
    "    <tr>\n",
    "        <td>numpy</td><td> 1.19.5</td><td> Array manipulation</td>\n",
    "    </tr>\n",
    "    <tr>\n",
    "        <td>scikit-learn</td><td> 1.0.1</td><td> Machine learning</td>\n",
    "    </tr>\n",
    "    <tr>\n",
    "        <td> pandas</td><td>1.4.1</td><td> Data loading and manipulation</td>\n",
    "    </tr>\n",
    "    <tr>\n",
    "        <td> tensorboard</td><td> 2.8.0</td><td> Provides the visualization and tooling needed for machine learning</td>\n",
    "    </tr>\n",
    "    <tr>\n",
    "        <td> tensorflow-gpu</td><td> 2.6.0</td><td> Deep learning tool for high performance computation </td>\n",
    "    </tr>\n",
    "</table-->"
   ]
  },
  {
   "cell_type": "markdown",
   "metadata": {},
   "source": [
    "You may install the package using Python pip packages manager as follows:\n",
    "\n",
    "pip install tensorflow-gpu==2.6.0 tensorflow-estimator==2.8.0 numpy==1.19.5  pandas==1.4.1  keras==2.6.0  scikit-learn==1.0.1\n",
    "\n",
    "\n",
    " **Library Import**<br>\n",
    "The following libraries need to be imported."
   ]
  },
  {
   "cell_type": "code",
   "execution_count": 1,
   "metadata": {},
   "outputs": [
    {
     "name": "stdout",
     "output_type": "stream",
     "text": [
      "Importing packages..\n",
      "Changing working directory to SEP_Package..\n",
      "Packages imported\n"
     ]
    }
   ],
   "source": [
    "#supress warning messages\n",
    "import warnings\n",
    "warnings.filterwarnings('ignore')\n",
    "print('Importing packages..')\n",
    "# Data manipulation\n",
    "import pandas as pd\n",
    "import numpy as np\n",
    "\n",
    "# Testing and training the models\n",
    "import os\n",
    "if os.path.exists('SEP_Package'):\n",
    "    print('Changing working directory to SEP_Package..')\n",
    "    os.chdir('SEP_Package')\n",
    "import sys\n",
    "sys.path.append('.')\n",
    "print('Packages imported')"
   ]
  },
  {
   "cell_type": "markdown",
   "metadata": {},
   "source": [
    "# **Data Processing and Analysis**\n",
    "We collected and extracted information from NASA's Space Weather Database of Notifications, Knowledge, Information (DONKI) to tag, for any given M- or X-class flare, whether it produced a CME and/or SEP event. We cross-checked the flare records in DONKI and GOES X-ray flare catalogs to ensure that each flare record was associated with an AR; otherwise the flare record was removed from our study.\n",
    "\n",
    "We then created two databases of ARs for the period between 2010 and 2021. ARs from 2010, 2016, and 2018–2021 were excluded from the study due to the lack of qualified data samples or the absence of SEP events associated with M-/X-class flares and CMEs. Thus, the databases contain ARs from six years, namely 2011–2015 and 2017. In our first database, referred to as the FC_S database, each record corresponds to an AR, contains an M- or X-class flare as well as a CME associated with the flare, and is tagged by whether the flare/CME produce an SEP event. In this database, there are 31 records tagged by \"yes\" indicating they are associated with SEP events while there are 97 records tagged by \"no\" indicating they are not associated with SEP events. In our second database, referred to as the F_S database, each record corresponds to an AR, contains an M- or X-class flare, and is tagged by whether the flare produces an SEP event regardless of whether or not the flare initiates a CME. In this database, there are 40 records tagged by \"yes\" indicating they are associated with SEP events while there are 700 records tagged by \"no\" indicating they are not associated with SEP events.\n"
   ]
  },
  {
   "cell_type": "markdown",
   "metadata": {},
   "source": [
    "# **Binder**\n",
    "\n",
    "This notebook is Binder enabled and can be run on <a target='new' href='https://mybinder.org/'>mybinder.org</a> by using the image link below:\n",
    "\n",
    "<p float=\"left\"> <a href='https://mybinder.org/v2/gh/ccsc-tools/SEP-prediction/HEAD?labpath=A_01_PredictingSEPUsingBiLSTM.ipynb' target='new'><img align=\"left\" src='https://mybinder.org/badge_logo.svg'></img></a></p>\n",
    "\n",
    "<br><br>\n",
    "Please note that starting Binder might take some time to create and start the image.\n",
    "\n"
   ]
  },
  {
   "cell_type": "markdown",
   "metadata": {},
   "source": [
    "# **SEP BiLSTM Workflow and Results**\n"
   ]
  },
  {
   "cell_type": "markdown",
   "metadata": {},
   "source": [
    "### **Data Preparation and Loading**\n",
    "The data directory inside the SEP_Package folder includes all training and test data sets required to run the run the notebook.\n",
    "* The CSV files start with events_fc_testing are used to test the first SEP prediction FC_S.\n",
    "* The CSV files start with events_fc_training are used to train the first SEP prediction FC_S.\n",
    "* The CSV files start with events_f_testing are used to train the second SEP prediction F_S.\n",
    "* The CSV files start with events_f_training are used to train the second SEP prediction F_S.\n",
    "\n",
    "\n",
    "The files are loaded and used during the testing and training process."
   ]
  },
  {
   "cell_type": "markdown",
   "metadata": {},
   "source": [
    "### **Predicting with Pretrained Models**\n",
    "There are default and pretrained models that can be used to predict without running your own trained model. The models_directory  is set to default_models which uses all pretrained algorithms."
   ]
  },
  {
   "cell_type": "code",
   "execution_count": 2,
   "metadata": {},
   "outputs": [
    {
     "name": "stdout",
     "output_type": "stream",
     "text": [
      "Tensorflow bakcend version: 2.8.0\n",
      "SUCCESS: Found GPU: /device:GPU:0\n",
      "Test default models for first classification type FC_S and for all time windows: 12 to 72 hours.\n",
      "Running classification test type: FC_S  training for h = 12 hour ahead\n",
      "testing data file: data/events_fc_testing_12.csv\n",
      "Building model for: default_models\\sep_model_fc_12hr\\model_weights \n",
      "Loading weights from: default_models\\sep_model_fc_12hr\\model_weights \n",
      "Saving result to file: results\\SEP_prediction_results_FC_S_12.csv \n",
      "Saving the performance metrics to files: results\\SEP_performance_metrics_BiLSTM_FC_S_12.csv \n",
      "\n",
      "-------------------------------------------------------\n",
      "Running classification test type: FC_S  training for h = 24 hour ahead\n",
      "testing data file: data/events_fc_testing_24.csv\n",
      "Building model for: default_models\\sep_model_fc_24hr\\model_weights \n",
      "Loading weights from: default_models\\sep_model_fc_24hr\\model_weights \n",
      "Saving result to file: results\\SEP_prediction_results_FC_S_24.csv \n",
      "Saving the performance metrics to files: results\\SEP_performance_metrics_BiLSTM_FC_S_24.csv \n",
      "\n",
      "-------------------------------------------------------\n",
      "Running classification test type: FC_S  training for h = 36 hour ahead\n",
      "testing data file: data/events_fc_testing_36.csv\n",
      "Building model for: default_models\\sep_model_fc_36hr\\model_weights \n",
      "Loading weights from: default_models\\sep_model_fc_36hr\\model_weights \n",
      "Saving result to file: results\\SEP_prediction_results_FC_S_36.csv \n",
      "Saving the performance metrics to files: results\\SEP_performance_metrics_BiLSTM_FC_S_36.csv \n",
      "\n",
      "-------------------------------------------------------\n",
      "Running classification test type: FC_S  training for h = 48 hour ahead\n",
      "testing data file: data/events_fc_testing_48.csv\n",
      "Building model for: default_models\\sep_model_fc_48hr\\model_weights \n",
      "Loading weights from: default_models\\sep_model_fc_48hr\\model_weights \n",
      "Saving result to file: results\\SEP_prediction_results_FC_S_48.csv \n",
      "Saving the performance metrics to files: results\\SEP_performance_metrics_BiLSTM_FC_S_48.csv \n",
      "\n",
      "-------------------------------------------------------\n",
      "Running classification test type: FC_S  training for h = 60 hour ahead\n",
      "testing data file: data/events_fc_testing_60.csv\n",
      "Building model for: default_models\\sep_model_fc_60hr\\model_weights \n",
      "Loading weights from: default_models\\sep_model_fc_60hr\\model_weights \n",
      "Saving result to file: results\\SEP_prediction_results_FC_S_60.csv \n",
      "Saving the performance metrics to files: results\\SEP_performance_metrics_BiLSTM_FC_S_60.csv \n",
      "\n",
      "-------------------------------------------------------\n",
      "Running classification test type: FC_S  training for h = 72 hour ahead\n",
      "testing data file: data/events_fc_testing_72.csv\n",
      "Building model for: default_models\\sep_model_fc_72hr\\model_weights \n",
      "Loading weights from: default_models\\sep_model_fc_72hr\\model_weights \n",
      "Saving result to file: results\\SEP_prediction_results_FC_S_72.csv \n",
      "Saving the performance metrics to files: results\\SEP_performance_metrics_BiLSTM_FC_S_72.csv \n",
      "\n",
      "-------------------------------------------------------\n"
     ]
    }
   ],
   "source": [
    "from SEP_test import test\n",
    "\n",
    "models_directory='default_models'\n",
    "print('Test default models for first classification type FC_S and for all time windows: 12 to 72 hours.')\n",
    "classification_type='FC_S'\n",
    "starting_time_window=12\n",
    "ending_time_window= 72\n",
    "test(classification_type,starting_time_window,ending_time_window+1,models_directory=models_directory)"
   ]
  },
  {
   "cell_type": "markdown",
   "metadata": {},
   "source": [
    "**Plotting the Pretrained Models Results**<br>"
   ]
  },
  {
   "cell_type": "code",
   "execution_count": null,
   "metadata": {
    "scrolled": true
   },
   "outputs": [],
   "source": [
    "from flareml_utils import plot_result\n",
    "plot_result(result)"
   ]
  },
  {
   "cell_type": "markdown",
   "metadata": {},
   "source": [
    "### **ENS Model Training and Testing**\n",
    "You may train the model with your own data or train the model with the default data.\n",
    "\n",
    "**ENS Model Training with Default Data**<br>\n",
    "Here, we show how to train the model with default data.\n",
    "To train the model with your own data:\n",
    "1. You should first upload your file to the data directory (in the left hand side file list).\n",
    "2. Edit the args variable in the following code and update the path to the training file:<br> 'train_data_file':'data/train_data/flaringar_training_sample.csv' <br>and replace the value 'data/train_data/flaringar_training_sample.csv' with your new file name."
   ]
  },
  {
   "cell_type": "code",
   "execution_count": null,
   "metadata": {},
   "outputs": [],
   "source": [
    "print('Loading the train_model function...')\n",
    "from flareml_train import train_model\n",
    "args = {'train_data_file':'data/train_data/flaringar_training_sample.csv',\n",
    "        'algorithm': 'ENS',\n",
    "       'modelid': 'custom_model_id'\n",
    "      }\n",
    "train_model(args)"
   ]
  },
  {
   "cell_type": "markdown",
   "metadata": {},
   "source": [
    "**Predicting with Your ENS Model**<br>\n",
    "To predict the testing data using the model you trained above, make sure the modelid value in the args variable in the following code is set exactly as the one used in the training, for example: 'custom_model_id'."
   ]
  },
  {
   "cell_type": "code",
   "execution_count": null,
   "metadata": {},
   "outputs": [],
   "source": [
    "from flareml_test import test_model\n",
    "args =  {'test_data_file': 'data/test_data/flaringar_simple_random_40.csv', \n",
    "         'algorithm': 'ENS', \n",
    "         'modelid': 'custom_model_id'}\n",
    "custom_result = test_model(args)"
   ]
  },
  {
   "cell_type": "markdown",
   "metadata": {},
   "source": [
    " **Plotting the ENS Results**<br>\n",
    "The prediction result can be plotted by passing the result variable to the function plot_custom_result as shown in the following example. The result shows the accuracy (TSS value) your model achieves for each flare class."
   ]
  },
  {
   "cell_type": "code",
   "execution_count": null,
   "metadata": {},
   "outputs": [],
   "source": [
    "from flareml_utils import plot_custom_result\n",
    "plot_custom_result(custom_result)"
   ]
  },
  {
   "cell_type": "markdown",
   "metadata": {},
   "source": [
    "### **RF Model Training and Testing**"
   ]
  },
  {
   "cell_type": "markdown",
   "metadata": {},
   "source": [
    "**RF Model Training with Default Data**<br>"
   ]
  },
  {
   "cell_type": "code",
   "execution_count": null,
   "metadata": {},
   "outputs": [],
   "source": [
    "print('Loading the train_model function...')\n",
    "from flareml_train import train_model\n",
    "args = {'train_data_file':'data/train_data/flaringar_training_sample.csv',\n",
    "        'algorithm': 'RF',\n",
    "       'modelid': 'custom_model_id'\n",
    "      }\n",
    "train_model(args)"
   ]
  },
  {
   "cell_type": "markdown",
   "metadata": {},
   "source": [
    "**Predicting with Your RF Model**<br>"
   ]
  },
  {
   "cell_type": "code",
   "execution_count": null,
   "metadata": {},
   "outputs": [],
   "source": [
    "from flareml_test import test_model\n",
    "args =  {'test_data_file': 'data/test_data/flaringar_simple_random_40.csv', \n",
    "         'algorithm': 'RF', \n",
    "         'modelid': 'custom_model_id'}\n",
    "custom_result = test_model(args)"
   ]
  },
  {
   "cell_type": "markdown",
   "metadata": {},
   "source": [
    "**Plotting the RF Results**<br>"
   ]
  },
  {
   "cell_type": "code",
   "execution_count": null,
   "metadata": {
    "scrolled": false
   },
   "outputs": [],
   "source": [
    "from flareml_utils import plot_custom_result\n",
    "plot_custom_result(custom_result)"
   ]
  },
  {
   "cell_type": "markdown",
   "metadata": {},
   "source": [
    "### **MLP Model Training and Testing**\n",
    "**MLP Model Training with Default Data**<br>"
   ]
  },
  {
   "cell_type": "code",
   "execution_count": null,
   "metadata": {},
   "outputs": [],
   "source": [
    "print('Loading the train_model function...')\n",
    "from flareml_train import train_model\n",
    "args = {'train_data_file':'data/train_data/flaringar_training_sample.csv',\n",
    "        'algorithm': 'MLP',\n",
    "       'modelid': 'custom_model_id'\n",
    "      }\n",
    "train_model(args)"
   ]
  },
  {
   "cell_type": "markdown",
   "metadata": {},
   "source": [
    "**Predicting with Your MLP Model**<br>"
   ]
  },
  {
   "cell_type": "code",
   "execution_count": null,
   "metadata": {},
   "outputs": [],
   "source": [
    "from flareml_test import test_model\n",
    "args =  {'test_data_file': 'data/test_data/flaringar_simple_random_40.csv', \n",
    "         'algorithm': 'MLP', \n",
    "         'modelid': 'custom_model_id'}\n",
    "custom_result = test_model(args)"
   ]
  },
  {
   "cell_type": "markdown",
   "metadata": {},
   "source": [
    "**Plotting the MLP Results**<br>"
   ]
  },
  {
   "cell_type": "code",
   "execution_count": null,
   "metadata": {
    "scrolled": true
   },
   "outputs": [],
   "source": [
    "from flareml_utils import plot_custom_result\n",
    "plot_custom_result(custom_result)"
   ]
  },
  {
   "cell_type": "markdown",
   "metadata": {},
   "source": [
    "### **ELM Model Training and Testing**\n",
    "**ELM Model Training with Default Data**<br>"
   ]
  },
  {
   "cell_type": "code",
   "execution_count": null,
   "metadata": {},
   "outputs": [],
   "source": [
    "print('Loading the train_model function...')\n",
    "from flareml_train import train_model\n",
    "args = {'train_data_file':'data/train_data/flaringar_training_sample.csv',\n",
    "        'algorithm': 'ELM',\n",
    "       'modelid': 'custom_model_id'\n",
    "      }\n",
    "train_model(args)"
   ]
  },
  {
   "cell_type": "markdown",
   "metadata": {},
   "source": [
    "**Predicting with Your ELM Model**<br>"
   ]
  },
  {
   "cell_type": "code",
   "execution_count": null,
   "metadata": {},
   "outputs": [],
   "source": [
    "from flareml_test import test_model\n",
    "args =  {'test_data_file': 'data/test_data/flaringar_simple_random_40.csv', \n",
    "         'algorithm': 'ELM', \n",
    "         'modelid': 'custom_model_id'}\n",
    "custom_result = test_model(args)"
   ]
  },
  {
   "cell_type": "markdown",
   "metadata": {},
   "source": [
    "**Plotting the ELM Resluts**<br>"
   ]
  },
  {
   "cell_type": "code",
   "execution_count": null,
   "metadata": {
    "scrolled": true
   },
   "outputs": [],
   "source": [
    "from flareml_utils import plot_custom_result\n",
    "plot_custom_result(custom_result)"
   ]
  },
  {
   "cell_type": "markdown",
   "metadata": {},
   "source": [
    "### **Timing**\n",
    "Please note that the execution time in mybinder varies based on the availability of resources. The average time to run the notebook is 10-15 minutes, but it could be more.\n",
    "\n",
    "# **Conclusions**\n",
    "<!-- We present a machine-learning-as-a-service framework\n",
    "(DeepSun) for solar flare prediction. This framework provides\n",
    "two interfaces: a web server where the user enters the information through a graphical interface and a programmable\n",
    "interface that can be used by any RESTful client. DeepSun employs three existing machine learning algorithms, namely\n",
    "random forests (RF), multilayer perceptrons (MLP), extreme learning machines (ELM), and an ensemble algorithm (ENS) that combines the three machine learning algorithms. Our experimental results demonstrated the good performance of the ensemble algorithm and its superiority over the three existing machine learning algorithms.\n",
    "In the current work we focus on data samples composed of SHARP physical parameters. We collect 845 data samples\n",
    "belonging to four flare classes: B, C, M, and X across 472 active regions. In addition, the Helioseismic Magnetic\n",
    "Imager (HMI) aboard the Solar Dynamics Observatory (SDO) produces continuous full-disk observations (solar images).<br>In\n",
    "future work we plan to incorporate these HMI images into our DeepSun framework and extend our previously developed deep learning techniques to directly process the images. -->\n",
    "\n",
    "We present a machine learning-based system (FlareML) for solar flare prediction. FlareML employs three existing machine learning algorithms, namely random forests (RF), multilayer perceptrons (MLP), extreme learning machines (ELM), and an ensemble algorithm (ENS) that combines the three machine learning algorithms. Our experimental results demonstrated the good performance of the ensemble algorithm and its superiority over the three existing machine learning algorithms. In the current work we focus on data samples composed of SHARP physical parameters. We collect 845 data samples belonging to four flare classes: B, C, M, and X across 472 active regions. In addition, the Helioseismic Magnetic Imager (HMI) aboard the Solar Dynamics Observatory (SDO) produces continuous full-disk observations (solar images). In future work we plan to incorporate these HMI images into our FlareML framework and extend our previously developed deep learning techniques to directly process the images for solar flare prediction.\n",
    "\n",
    "# **References**\n",
    "<ol>\n",
    "    <li>\n",
    "        DeepSun: Machine-Learning-as-a-Service for Solar Flare Prediction<br>\n",
    "        Yasser Abduallah, Jason T. L. Wang and Haimin Wang<br>\n",
    "        <a target='new' href='https://iopscience.iop.org/article/10.1088/1674-4527/21/7/160'>https://iopscience.iop.org/article/10.1088/1674-4527/21/7/160</a>\n",
    "    </li>\n",
    "        <li>\n",
    "        Predicting Solar Flares Using SDO/HMI Vector Magnetic Data Products and the Random Forest Algorithm<br>\n",
    "         Chang Liu, Na Deng, Jason T. L. Wang and Haimin Wang<br>\n",
    "        <a target='new' href='https://iopscience.iop.org/article/10.3847/1538-4357/aa789b'>https://iopscience.iop.org/article/10.3847/1538-4357/aa789b</a>\n",
    "    </li>\n",
    "     <li>\n",
    "         Artificial Neural Networks: An Introduction to ANN Theory and Practice<br>\n",
    "    P. J. Braspenning, F. Thuijsman, A. J. M. M. Weijters <br>\n",
    "        <a target='new' href='https://link.springer.com/book/10.1007/BFb0027019'>https://link.springer.com/book/10.1007/BFb0027019</a>\n",
    "    </li>\n",
    "     <li>\n",
    "         Enhanced Random Search Based Incremental Extreme Learning Machine<br>\n",
    "    Guang-Bin Huang and Lei Chen<br>\n",
    "        <a target='new' href='https://www.sciencedirect.com/science/article/abs/pii/S0925231207003633?via%3Dihub'>https://www.sciencedirect.com/science/article/abs/pii/S0925231207003633?via%3Dihub</a>\n",
    "    </li>     \n",
    "     <li>\n",
    "         Predicting Solar Energetic Particles Using SDO/HMI Vector Magnetic Data Products and a\n",
    "Bidirectional LSTM Network<br>\n",
    "    Yasser Abduallah, Vania K. Jordanova, Hao Liu, Qin Li, Jason T. L. Wang and Haimin Wang<br>\n",
    "        <a target='new' href='https://iopscience.iop.org/article/10.3847/1538-4365/ac5f56'>https://iopscience.iop.org/article/10.3847/1538-4365/ac5f56</a>\n",
    "    </li>        \n",
    "</ol>"
   ]
  },
  {
   "cell_type": "code",
   "execution_count": null,
   "metadata": {},
   "outputs": [],
   "source": []
  }
 ],
 "metadata": {
  "kernelspec": {
   "display_name": "Python 3 (ipykernel)",
   "language": "python",
   "name": "python3"
  },
  "language_info": {
   "codemirror_mode": {
    "name": "ipython",
    "version": 3
   },
   "file_extension": ".py",
   "mimetype": "text/x-python",
   "name": "python",
   "nbconvert_exporter": "python",
   "pygments_lexer": "ipython3",
   "version": "3.9.7"
  },
  "toc": {
   "base_numbering": 1,
   "nav_menu": {},
   "number_sections": true,
   "sideBar": true,
   "skip_h1_title": false,
   "title_cell": "Table of Contents",
   "title_sidebar": "Contents",
   "toc_cell": true,
   "toc_position": {
    "height": "calc(100% - 180px)",
    "left": "10px",
    "top": "150px",
    "width": "248.182px"
   },
   "toc_section_display": true,
   "toc_window_display": true
  }
 },
 "nbformat": 4,
 "nbformat_minor": 4
}
